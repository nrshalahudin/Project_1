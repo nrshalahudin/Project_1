{
  "nbformat": 4,
  "nbformat_minor": 0,
  "metadata": {
    "colab": {
      "provenance": []
    },
    "kernelspec": {
      "name": "python3",
      "display_name": "Python 3"
    },
    "language_info": {
      "name": "python"
    }
  },
  "cells": [
    {
      "cell_type": "code",
      "execution_count": null,
      "metadata": {
        "id": "ypMnobF2Jnpo"
      },
      "outputs": [],
      "source": [
        "import pandas as pd\n",
        "from sklearn.preprocessing import LabelEncoder\n",
        "\n",
        "df1 = pd.read_csv('/content/train.csv')\n",
        "df2 = pd.read_csv('/content/test.csv')\n"
      ]
    },
    {
      "cell_type": "code",
      "source": [
        "label_encoder_sex = LabelEncoder()\n",
        "df1['Sex'] = label_encoder_sex.fit_transform(df1['Sex'])\n",
        "label_encoder_embarked = LabelEncoder()\n",
        "df1['Embarked'] = label_encoder_embarked.fit_transform(df1['Embarked'])"
      ],
      "metadata": {
        "id": "bJA2XQBjLDzq"
      },
      "execution_count": null,
      "outputs": []
    },
    {
      "cell_type": "code",
      "source": [
        "label_encoder_sex = LabelEncoder()\n",
        "df2['Sex'] = label_encoder_sex.fit_transform(df2['Sex'])\n",
        "label_encoder_embarked = LabelEncoder()\n",
        "df2['Embarked'] = label_encoder_embarked.fit_transform(df2['Embarked'])"
      ],
      "metadata": {
        "id": "1p44j-19OKxH"
      },
      "execution_count": null,
      "outputs": []
    },
    {
      "cell_type": "code",
      "source": [
        "mean_age = df2['Age'].mean()\n",
        "df2['Age'] = df2['Age'].fillna(mean_age)\n",
        "df2['Age'] = df2['Age'].astype(int)"
      ],
      "metadata": {
        "id": "xU5Ly0ckdtHQ"
      },
      "execution_count": null,
      "outputs": []
    },
    {
      "cell_type": "code",
      "source": [
        "mean_age = df1['Age'].mean()\n",
        "df1['Age'] = df1['Age'].fillna(mean_age)\n",
        "df1['Age'] = df1['Age'].astype(int)"
      ],
      "metadata": {
        "id": "cQ0xccXHik1e"
      },
      "execution_count": null,
      "outputs": []
    },
    {
      "cell_type": "code",
      "source": [
        "df1 = df1.dropna()\n",
        "df2 = df2.dropna()"
      ],
      "metadata": {
        "id": "TlG7eONJMhWg"
      },
      "execution_count": null,
      "outputs": []
    },
    {
      "cell_type": "code",
      "source": [
        "df1.isna().sum()"
      ],
      "metadata": {
        "colab": {
          "base_uri": "https://localhost:8080/"
        },
        "id": "8UQN7pS1zDw8",
        "outputId": "a5fcd5b0-ec10-46eb-8108-302d0600477f"
      },
      "execution_count": null,
      "outputs": [
        {
          "output_type": "execute_result",
          "data": {
            "text/plain": [
              "PassengerId    0\n",
              "Survived       0\n",
              "Pclass         0\n",
              "Name           0\n",
              "Sex            0\n",
              "Age            0\n",
              "SibSp          0\n",
              "Parch          0\n",
              "Ticket         0\n",
              "Fare           0\n",
              "Cabin          0\n",
              "Embarked       0\n",
              "dtype: int64"
            ]
          },
          "metadata": {},
          "execution_count": 41
        }
      ]
    },
    {
      "cell_type": "code",
      "source": [
        "df2.isna().sum()"
      ],
      "metadata": {
        "colab": {
          "base_uri": "https://localhost:8080/"
        },
        "id": "fyvxcAbcOc7Y",
        "outputId": "f812fe99-4cbb-4a1b-d3c7-44f5a7e0b640"
      },
      "execution_count": null,
      "outputs": [
        {
          "output_type": "execute_result",
          "data": {
            "text/plain": [
              "PassengerId    0\n",
              "Pclass         0\n",
              "Name           0\n",
              "Sex            0\n",
              "Age            0\n",
              "SibSp          0\n",
              "Parch          0\n",
              "Ticket         0\n",
              "Fare           0\n",
              "Cabin          0\n",
              "Embarked       0\n",
              "dtype: int64"
            ]
          },
          "metadata": {},
          "execution_count": 42
        }
      ]
    },
    {
      "cell_type": "code",
      "source": [
        "columns_to_drop = ['PassengerId', 'Name', 'Ticket', 'Cabin']\n",
        "df1 = df1.drop(columns=columns_to_drop)"
      ],
      "metadata": {
        "id": "PFh78TxkzTEn"
      },
      "execution_count": null,
      "outputs": []
    },
    {
      "cell_type": "code",
      "source": [
        "columns_to_drop = ['Cabin']\n",
        "df2 = df2.drop(columns=columns_to_drop)"
      ],
      "metadata": {
        "id": "zRCUnV1dfyFV"
      },
      "execution_count": null,
      "outputs": []
    },
    {
      "cell_type": "code",
      "source": [
        "X = df1.iloc[:,1:5]\n",
        "y = df1.iloc[:,0:1]"
      ],
      "metadata": {
        "id": "BgqN7mVE1-oY"
      },
      "execution_count": null,
      "outputs": []
    },
    {
      "cell_type": "code",
      "source": [
        "from sklearn.model_selection import train_test_split\n",
        "X_train,X_test,y_train,y_test = train_test_split(X,y,test_size=0.2,random_state=418)\n"
      ],
      "metadata": {
        "id": "Z4Q8jQ9G2Ozf"
      },
      "execution_count": null,
      "outputs": []
    },
    {
      "cell_type": "code",
      "source": [
        "from sklearn.linear_model import LogisticRegression\n",
        "lg = LogisticRegression(random_state=0, max_iter=1000).fit(X_train,y_train)\n",
        "y_pred = lg.predict(X_test)"
      ],
      "metadata": {
        "colab": {
          "base_uri": "https://localhost:8080/"
        },
        "id": "Uc55SPGY29Ku",
        "outputId": "0b2ceada-88b6-4c1a-d450-659d421e4d68"
      },
      "execution_count": null,
      "outputs": [
        {
          "output_type": "stream",
          "name": "stderr",
          "text": [
            "/usr/local/lib/python3.10/dist-packages/sklearn/utils/validation.py:1143: DataConversionWarning: A column-vector y was passed when a 1d array was expected. Please change the shape of y to (n_samples, ), for example using ravel().\n",
            "  y = column_or_1d(y, warn=True)\n"
          ]
        }
      ]
    },
    {
      "cell_type": "code",
      "source": [
        "from sklearn import metrics\n",
        "auc = metrics.accuracy_score(y_test,y_pred)\n",
        "print(auc)"
      ],
      "metadata": {
        "colab": {
          "base_uri": "https://localhost:8080/"
        },
        "id": "lWm5o9IZBv0j",
        "outputId": "fac4af86-c88d-4adf-8fc4-b3259167fc52"
      },
      "execution_count": null,
      "outputs": [
        {
          "output_type": "stream",
          "name": "stdout",
          "text": [
            "0.8048780487804879\n"
          ]
        }
      ]
    },
    {
      "cell_type": "code",
      "source": [
        "X_new = df2[['Pclass', 'Sex', 'Age', 'SibSp']]\n",
        "predictions = lg.predict(X_new)\n",
        "df2['Survived'] = predictions\n",
        "submission = df2[['PassengerId', 'Survived']]"
      ],
      "metadata": {
        "colab": {
          "base_uri": "https://localhost:8080/"
        },
        "id": "N2UUN8QEO-ni",
        "outputId": "60d6416e-ea20-44ee-f375-88bfa424fdcf"
      },
      "execution_count": null,
      "outputs": [
        {
          "output_type": "stream",
          "name": "stdout",
          "text": [
            "     PassengerId  Survived\n",
            "12           904         1\n",
            "14           906         1\n",
            "24           916         1\n",
            "26           918         1\n",
            "28           920         0\n",
            "..           ...       ...\n",
            "404         1296         0\n",
            "405         1297         0\n",
            "407         1299         0\n",
            "411         1303         1\n",
            "414         1306         1\n",
            "\n",
            "[91 rows x 2 columns]\n"
          ]
        }
      ]
    },
    {
      "cell_type": "code",
      "source": [
        "submission.to_csv('submission.csv', index=False)"
      ],
      "metadata": {
        "id": "A9I_cvJLgH52"
      },
      "execution_count": null,
      "outputs": []
    }
  ]
}